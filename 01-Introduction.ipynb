{
 "cells": [
  {
   "cell_type": "markdown",
   "metadata": {},
   "source": [
    "<h1> Introduction </h1>"
   ]
  },
  {
   "cell_type": "markdown",
   "metadata": {},
   "source": [
    "<h3> Abstract </h3>"
   ]
  },
  {
   "cell_type": "markdown",
   "metadata": {},
   "source": [
    "This project will be examining data compiled by <i>The Washington Post </i> since January 1, 2015 detailing every fatal shooting in the United States by a police officer in the line of duty. The goal of this project is to examine and determine, based on the data, the correlations between fatal police shootings and race, income, and education."
   ]
  },
  {
   "cell_type": "markdown",
   "metadata": {},
   "source": [
    "<h3> Description of Dataset </h3>"
   ]
  },
  {
   "cell_type": "markdown",
   "metadata": {},
   "source": [
    "The fatal shooting of Michael Brown by the hands of the Ferguson, Missouri Police Department in 2014 spurred protests and movements nationwide, and shined a national spotlight on police violence and police accountability. Since January 1, 2015, <i> The Washington Post </i> has been compiling a database of fatal shootings by a police officer in the United States in the line of duty. Note that this does not include civilians killed in police custody, fatal shootings by off-duty officers, and non-shooting deaths. The data was gathered via law enforcement websites, local news reports, and social media. The data set includes data such as: name, date, manner of death, whether the person was armed, the age, gender, and race of the person, the city and state where the shooting took place, whether the person showed signs of mental illness, the threat level of the incident,  whether the person was fleeing, and whether the officer in question had a body camera. The dataset was last updated July 2017.\n",
    "\n",
    "The dataset on Kaggle has also included four additional datasets, taken from U.S. Census data. These datasets contain information, broken down by city, regarding: median household income (circa 2015), percentage of people below poverty level, percentage of people over the age of 25 that have completed high school, and the racial breakdown of cities by percentage. \n",
    "\n"
   ]
  },
  {
   "cell_type": "markdown",
   "metadata": {},
   "source": [
    "<h3> Index </h3>"
   ]
  },
  {
   "cell_type": "markdown",
   "metadata": {},
   "source": [
    "- 01: Introduction\n",
    "    * Abstract\n",
    "    * Description of Data\n",
    "    * Index\n",
    "    * Citations\n",
    "- 02: Import\n",
    "    * Importing the Datasets\n",
    "    * Store on Disk\n",
    "- 03: Tidy\n",
    "    * Read Data In\n",
    "    * Tidying\n",
    "        - Removing Duplicates\n",
    "        - Dealing With Missing Values\n",
    "        - Replacing Values and Transforming Data\n",
    "        - Renaming Columns\n",
    "        - Modifying Column Data Accross Tables to Ensure Linkage\n",
    "        - Modify DataTypes\n",
    "    * Tests\n",
    "    * Store on Disk\n",
    "- 04: Exploratory Data Analysis\n",
    "    * Read Data In\n",
    "    * Quick Overview of Fatal Shootings Over Time\n",
    "    * Fatal Police Shootings By Age\n",
    "    * Fatal Police Shootings By Gender\n",
    "    * Fatal Police Shootings By State\n",
    "    * Was The Victim Mentally Ill?\n",
    "    * Was the Victim Dangerous?\n",
    "    * Fatal Police Shootings Across Income Lines\n",
    "    * Fatal Police Shootings Across Education Levels\n",
    "    * Fatal Police Shootings Across Race Lines\n",
    "- 05: Modeling\n",
    "    * Read Data In\n",
    "    * Bootstrapping\n",
    "    * Logistic Regression\n",
    "    * Random Forest Classifier\n",
    "- 06: Presentation\n",
    "    * Introduction\n",
    "        - The Data\n",
    "        - What Are We Finding?\n",
    "    * Importing the Data\n",
    "    * Summary of Tidying\n",
    "    * Data Analysis\n",
    "        - Quick Overview of Fatal Shootings Over Time\n",
    "        - Fatal Police Shootings By Age\n",
    "        - Fatal Police Shootings By Gender\n",
    "        - Fatal Police Shootings By State\n",
    "        - Was The Victim Mentally Ill?\n",
    "        - Was the Victim Dangerous?\n",
    "        - Fatal Police Shootings Across Income Lines\n",
    "        - Fatal Police Shootings Across Education Levels\n",
    "        - Fatal Police Shootings Across Race Lines\n",
    "    * Modeling\n",
    "        - Logistic Regression\n",
    "        - Random Forest Classifier\n",
    "    * Summary of Findings\n"
   ]
  },
  {
   "cell_type": "markdown",
   "metadata": {},
   "source": [
    "<h3> Citations </h3>"
   ]
  },
  {
   "cell_type": "markdown",
   "metadata": {},
   "source": [
    "The data is taken from the Kaggle Dataset which can be found  <a href = \"https://www.kaggle.com/kwullum/fatal-police-shootings-in-the-us\">here</a>.\n",
    "\n",
    "The Police Killings dataset compiled by <i>The Washington Post</i> can be found <a href=\" https://github.com/washingtonpost/data-police-shootings\">here</a>.\n",
    "\n",
    "The U.S. Census data can be found <a href=\"https://factfinder.census.gov/faces/nav/jsf/pages/community_facts.xhtml\"> here</a>."
   ]
  }
 ],
 "metadata": {
  "kernelspec": {
   "display_name": "Python 3",
   "language": "python",
   "name": "python3"
  },
  "language_info": {
   "codemirror_mode": {
    "name": "ipython",
    "version": 3
   },
   "file_extension": ".py",
   "mimetype": "text/x-python",
   "name": "python",
   "nbconvert_exporter": "python",
   "pygments_lexer": "ipython3",
   "version": "3.6.3"
  }
 },
 "nbformat": 4,
 "nbformat_minor": 2
}
