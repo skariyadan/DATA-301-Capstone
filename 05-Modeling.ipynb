{
 "cells": [
  {
   "cell_type": "markdown",
   "metadata": {},
   "source": [
    "<h1> Modeling </h1>"
   ]
  },
  {
   "cell_type": "markdown",
   "metadata": {},
   "source": [
    "<h2> Read Data In </h2>"
   ]
  },
  {
   "cell_type": "code",
   "execution_count": 55,
   "metadata": {},
   "outputs": [],
   "source": [
    "from sklearn.cross_validation import train_test_split\n",
    "from sklearn.metrics import classification_report, confusion_matrix\n",
    "from sklearn.ensemble import RandomForestClassifier\n",
    "from sklearn.preprocessing import LabelEncoder\n",
    "from sklearn.linear_model import LogisticRegression\n",
    "from sklearn import model_selection\n",
    "from sklearn.metrics import accuracy_score\n",
    "import pyarrow.parquet as pq\n",
    "import pyarrow as pa\n",
    "import numpy as np\n",
    "import pandas as pd\n",
    "import dask.dataframe as dd\n",
    "import matplotlib.pyplot as plt\n",
    "import seaborn as sns; sns.set()"
   ]
  },
  {
   "cell_type": "code",
   "execution_count": 56,
   "metadata": {},
   "outputs": [],
   "source": [
    "filenamekillings = \"/data/skariyadan/DaskKillings.parquet\"\n",
    "filenameincome = \"/data/skariyadan/Income.parquet\"\n",
    "filenamebelowpoverty = \"/data/skariyadan/BelowPoverty.parquet\"\n",
    "filenameeducation = \"/data/skariyadan/Education.parquet\"\n",
    "filenameracestats = \"/data/skariyadan/RaceStats.parquet\""
   ]
  },
  {
   "cell_type": "code",
   "execution_count": 57,
   "metadata": {},
   "outputs": [
    {
     "data": {
      "text/html": [
       "<div>\n",
       "<style scoped>\n",
       "    .dataframe tbody tr th:only-of-type {\n",
       "        vertical-align: middle;\n",
       "    }\n",
       "\n",
       "    .dataframe tbody tr th {\n",
       "        vertical-align: top;\n",
       "    }\n",
       "\n",
       "    .dataframe thead th {\n",
       "        text-align: right;\n",
       "    }\n",
       "</style>\n",
       "<table border=\"1\" class=\"dataframe\">\n",
       "  <thead>\n",
       "    <tr style=\"text-align: right;\">\n",
       "      <th></th>\n",
       "      <th>name</th>\n",
       "      <th>date</th>\n",
       "      <th>cause_of_death</th>\n",
       "      <th>armed</th>\n",
       "      <th>age</th>\n",
       "      <th>gender</th>\n",
       "      <th>race</th>\n",
       "      <th>city</th>\n",
       "      <th>state</th>\n",
       "      <th>mental_illness</th>\n",
       "      <th>threat_level</th>\n",
       "      <th>flee</th>\n",
       "      <th>body_camera</th>\n",
       "    </tr>\n",
       "  </thead>\n",
       "  <tbody>\n",
       "    <tr>\n",
       "      <th>0</th>\n",
       "      <td>Tim Elliot</td>\n",
       "      <td>2015-01-02</td>\n",
       "      <td>shot</td>\n",
       "      <td>gun</td>\n",
       "      <td>53.0</td>\n",
       "      <td>M</td>\n",
       "      <td>asian</td>\n",
       "      <td>shelton</td>\n",
       "      <td>WA</td>\n",
       "      <td>True</td>\n",
       "      <td>attack</td>\n",
       "      <td>not fleeing</td>\n",
       "      <td>False</td>\n",
       "    </tr>\n",
       "    <tr>\n",
       "      <th>1</th>\n",
       "      <td>Lewis Lee Lembke</td>\n",
       "      <td>2015-01-02</td>\n",
       "      <td>shot</td>\n",
       "      <td>gun</td>\n",
       "      <td>47.0</td>\n",
       "      <td>M</td>\n",
       "      <td>white</td>\n",
       "      <td>aloha</td>\n",
       "      <td>OR</td>\n",
       "      <td>False</td>\n",
       "      <td>attack</td>\n",
       "      <td>not fleeing</td>\n",
       "      <td>False</td>\n",
       "    </tr>\n",
       "    <tr>\n",
       "      <th>2</th>\n",
       "      <td>John Paul Quintero</td>\n",
       "      <td>2015-01-03</td>\n",
       "      <td>shot and Tasered</td>\n",
       "      <td>unarmed</td>\n",
       "      <td>23.0</td>\n",
       "      <td>M</td>\n",
       "      <td>hispanic</td>\n",
       "      <td>wichita</td>\n",
       "      <td>KS</td>\n",
       "      <td>False</td>\n",
       "      <td>other</td>\n",
       "      <td>not fleeing</td>\n",
       "      <td>False</td>\n",
       "    </tr>\n",
       "    <tr>\n",
       "      <th>3</th>\n",
       "      <td>Matthew Hoffman</td>\n",
       "      <td>2015-01-04</td>\n",
       "      <td>shot</td>\n",
       "      <td>toy weapon</td>\n",
       "      <td>32.0</td>\n",
       "      <td>M</td>\n",
       "      <td>white</td>\n",
       "      <td>san francisco</td>\n",
       "      <td>CA</td>\n",
       "      <td>True</td>\n",
       "      <td>attack</td>\n",
       "      <td>not fleeing</td>\n",
       "      <td>False</td>\n",
       "    </tr>\n",
       "    <tr>\n",
       "      <th>4</th>\n",
       "      <td>Michael Rodriguez</td>\n",
       "      <td>2015-01-04</td>\n",
       "      <td>shot</td>\n",
       "      <td>nail gun</td>\n",
       "      <td>39.0</td>\n",
       "      <td>M</td>\n",
       "      <td>hispanic</td>\n",
       "      <td>evans</td>\n",
       "      <td>CO</td>\n",
       "      <td>False</td>\n",
       "      <td>attack</td>\n",
       "      <td>not fleeing</td>\n",
       "      <td>False</td>\n",
       "    </tr>\n",
       "  </tbody>\n",
       "</table>\n",
       "</div>"
      ],
      "text/plain": [
       "                 name       date    cause_of_death       armed   age gender  \\\n",
       "0          Tim Elliot 2015-01-02              shot         gun  53.0      M   \n",
       "1    Lewis Lee Lembke 2015-01-02              shot         gun  47.0      M   \n",
       "2  John Paul Quintero 2015-01-03  shot and Tasered     unarmed  23.0      M   \n",
       "3     Matthew Hoffman 2015-01-04              shot  toy weapon  32.0      M   \n",
       "4   Michael Rodriguez 2015-01-04              shot    nail gun  39.0      M   \n",
       "\n",
       "       race           city state  mental_illness threat_level         flee  \\\n",
       "0     asian        shelton    WA            True       attack  not fleeing   \n",
       "1     white          aloha    OR           False       attack  not fleeing   \n",
       "2  hispanic        wichita    KS           False        other  not fleeing   \n",
       "3     white  san francisco    CA            True       attack  not fleeing   \n",
       "4  hispanic          evans    CO           False       attack  not fleeing   \n",
       "\n",
       "   body_camera  \n",
       "0        False  \n",
       "1        False  \n",
       "2        False  \n",
       "3        False  \n",
       "4        False  "
      ]
     },
     "execution_count": 57,
     "metadata": {},
     "output_type": "execute_result"
    }
   ],
   "source": [
    "Killings = pq.read_table(filenamekillings).to_pandas()\n",
    "Killings.head()"
   ]
  },
  {
   "cell_type": "code",
   "execution_count": 58,
   "metadata": {},
   "outputs": [
    {
     "data": {
      "text/html": [
       "<div>\n",
       "<style scoped>\n",
       "    .dataframe tbody tr th:only-of-type {\n",
       "        vertical-align: middle;\n",
       "    }\n",
       "\n",
       "    .dataframe tbody tr th {\n",
       "        vertical-align: top;\n",
       "    }\n",
       "\n",
       "    .dataframe thead th {\n",
       "        text-align: right;\n",
       "    }\n",
       "</style>\n",
       "<table border=\"1\" class=\"dataframe\">\n",
       "  <thead>\n",
       "    <tr style=\"text-align: right;\">\n",
       "      <th></th>\n",
       "      <th>state</th>\n",
       "      <th>city</th>\n",
       "      <th>median_income</th>\n",
       "    </tr>\n",
       "  </thead>\n",
       "  <tbody>\n",
       "    <tr>\n",
       "      <th>0</th>\n",
       "      <td>AL</td>\n",
       "      <td>abanda</td>\n",
       "      <td>11207</td>\n",
       "    </tr>\n",
       "    <tr>\n",
       "      <th>1</th>\n",
       "      <td>AL</td>\n",
       "      <td>abbeville</td>\n",
       "      <td>25615</td>\n",
       "    </tr>\n",
       "    <tr>\n",
       "      <th>2</th>\n",
       "      <td>AL</td>\n",
       "      <td>adamsville</td>\n",
       "      <td>42575</td>\n",
       "    </tr>\n",
       "    <tr>\n",
       "      <th>3</th>\n",
       "      <td>AL</td>\n",
       "      <td>addison</td>\n",
       "      <td>37083</td>\n",
       "    </tr>\n",
       "    <tr>\n",
       "      <th>4</th>\n",
       "      <td>AL</td>\n",
       "      <td>akron</td>\n",
       "      <td>21667</td>\n",
       "    </tr>\n",
       "  </tbody>\n",
       "</table>\n",
       "</div>"
      ],
      "text/plain": [
       "  state        city  median_income\n",
       "0    AL      abanda          11207\n",
       "1    AL   abbeville          25615\n",
       "2    AL  adamsville          42575\n",
       "3    AL     addison          37083\n",
       "4    AL       akron          21667"
      ]
     },
     "execution_count": 58,
     "metadata": {},
     "output_type": "execute_result"
    }
   ],
   "source": [
    "Income = pq.read_table(filenameincome).to_pandas()\n",
    "Income.head()"
   ]
  },
  {
   "cell_type": "code",
   "execution_count": 59,
   "metadata": {},
   "outputs": [
    {
     "data": {
      "text/html": [
       "<div>\n",
       "<style scoped>\n",
       "    .dataframe tbody tr th:only-of-type {\n",
       "        vertical-align: middle;\n",
       "    }\n",
       "\n",
       "    .dataframe tbody tr th {\n",
       "        vertical-align: top;\n",
       "    }\n",
       "\n",
       "    .dataframe thead th {\n",
       "        text-align: right;\n",
       "    }\n",
       "</style>\n",
       "<table border=\"1\" class=\"dataframe\">\n",
       "  <thead>\n",
       "    <tr style=\"text-align: right;\">\n",
       "      <th></th>\n",
       "      <th>state</th>\n",
       "      <th>city</th>\n",
       "      <th>poverty_rate</th>\n",
       "    </tr>\n",
       "  </thead>\n",
       "  <tbody>\n",
       "    <tr>\n",
       "      <th>0</th>\n",
       "      <td>AL</td>\n",
       "      <td>abanda</td>\n",
       "      <td>78.800003</td>\n",
       "    </tr>\n",
       "    <tr>\n",
       "      <th>1</th>\n",
       "      <td>AL</td>\n",
       "      <td>abbeville</td>\n",
       "      <td>29.100000</td>\n",
       "    </tr>\n",
       "    <tr>\n",
       "      <th>2</th>\n",
       "      <td>AL</td>\n",
       "      <td>adamsville</td>\n",
       "      <td>25.500000</td>\n",
       "    </tr>\n",
       "    <tr>\n",
       "      <th>3</th>\n",
       "      <td>AL</td>\n",
       "      <td>addison</td>\n",
       "      <td>30.700001</td>\n",
       "    </tr>\n",
       "    <tr>\n",
       "      <th>4</th>\n",
       "      <td>AL</td>\n",
       "      <td>akron</td>\n",
       "      <td>42.000000</td>\n",
       "    </tr>\n",
       "  </tbody>\n",
       "</table>\n",
       "</div>"
      ],
      "text/plain": [
       "  state        city  poverty_rate\n",
       "0    AL      abanda     78.800003\n",
       "1    AL   abbeville     29.100000\n",
       "2    AL  adamsville     25.500000\n",
       "3    AL     addison     30.700001\n",
       "4    AL       akron     42.000000"
      ]
     },
     "execution_count": 59,
     "metadata": {},
     "output_type": "execute_result"
    }
   ],
   "source": [
    "BelowPoverty = pq.read_table(filenamebelowpoverty).to_pandas()\n",
    "BelowPoverty.head()"
   ]
  },
  {
   "cell_type": "code",
   "execution_count": 60,
   "metadata": {},
   "outputs": [
    {
     "data": {
      "text/html": [
       "<div>\n",
       "<style scoped>\n",
       "    .dataframe tbody tr th:only-of-type {\n",
       "        vertical-align: middle;\n",
       "    }\n",
       "\n",
       "    .dataframe tbody tr th {\n",
       "        vertical-align: top;\n",
       "    }\n",
       "\n",
       "    .dataframe thead th {\n",
       "        text-align: right;\n",
       "    }\n",
       "</style>\n",
       "<table border=\"1\" class=\"dataframe\">\n",
       "  <thead>\n",
       "    <tr style=\"text-align: right;\">\n",
       "      <th></th>\n",
       "      <th>state</th>\n",
       "      <th>city</th>\n",
       "      <th>completed_hs</th>\n",
       "    </tr>\n",
       "  </thead>\n",
       "  <tbody>\n",
       "    <tr>\n",
       "      <th>0</th>\n",
       "      <td>AL</td>\n",
       "      <td>abanda</td>\n",
       "      <td>21.200001</td>\n",
       "    </tr>\n",
       "    <tr>\n",
       "      <th>1</th>\n",
       "      <td>AL</td>\n",
       "      <td>abbeville</td>\n",
       "      <td>69.099998</td>\n",
       "    </tr>\n",
       "    <tr>\n",
       "      <th>2</th>\n",
       "      <td>AL</td>\n",
       "      <td>adamsville</td>\n",
       "      <td>78.900002</td>\n",
       "    </tr>\n",
       "    <tr>\n",
       "      <th>3</th>\n",
       "      <td>AL</td>\n",
       "      <td>addison</td>\n",
       "      <td>81.400002</td>\n",
       "    </tr>\n",
       "    <tr>\n",
       "      <th>4</th>\n",
       "      <td>AL</td>\n",
       "      <td>akron</td>\n",
       "      <td>68.599998</td>\n",
       "    </tr>\n",
       "  </tbody>\n",
       "</table>\n",
       "</div>"
      ],
      "text/plain": [
       "  state        city  completed_hs\n",
       "0    AL      abanda     21.200001\n",
       "1    AL   abbeville     69.099998\n",
       "2    AL  adamsville     78.900002\n",
       "3    AL     addison     81.400002\n",
       "4    AL       akron     68.599998"
      ]
     },
     "execution_count": 60,
     "metadata": {},
     "output_type": "execute_result"
    }
   ],
   "source": [
    "Education = pq.read_table(filenameeducation).to_pandas()\n",
    "Education.head()"
   ]
  },
  {
   "cell_type": "code",
   "execution_count": 61,
   "metadata": {},
   "outputs": [
    {
     "data": {
      "text/html": [
       "<div>\n",
       "<style scoped>\n",
       "    .dataframe tbody tr th:only-of-type {\n",
       "        vertical-align: middle;\n",
       "    }\n",
       "\n",
       "    .dataframe tbody tr th {\n",
       "        vertical-align: top;\n",
       "    }\n",
       "\n",
       "    .dataframe thead th {\n",
       "        text-align: right;\n",
       "    }\n",
       "</style>\n",
       "<table border=\"1\" class=\"dataframe\">\n",
       "  <thead>\n",
       "    <tr style=\"text-align: right;\">\n",
       "      <th></th>\n",
       "      <th>state</th>\n",
       "      <th>city</th>\n",
       "      <th>white</th>\n",
       "      <th>black</th>\n",
       "      <th>native_american</th>\n",
       "      <th>asian</th>\n",
       "      <th>hispanic</th>\n",
       "    </tr>\n",
       "  </thead>\n",
       "  <tbody>\n",
       "    <tr>\n",
       "      <th>0</th>\n",
       "      <td>AL</td>\n",
       "      <td>abanda</td>\n",
       "      <td>67.199997</td>\n",
       "      <td>30.200001</td>\n",
       "      <td>0.0</td>\n",
       "      <td>0.0</td>\n",
       "      <td>1.6</td>\n",
       "    </tr>\n",
       "    <tr>\n",
       "      <th>1</th>\n",
       "      <td>AL</td>\n",
       "      <td>abbeville</td>\n",
       "      <td>54.400002</td>\n",
       "      <td>41.400002</td>\n",
       "      <td>0.1</td>\n",
       "      <td>1.0</td>\n",
       "      <td>3.1</td>\n",
       "    </tr>\n",
       "    <tr>\n",
       "      <th>2</th>\n",
       "      <td>AL</td>\n",
       "      <td>adamsville</td>\n",
       "      <td>52.299999</td>\n",
       "      <td>44.900002</td>\n",
       "      <td>0.5</td>\n",
       "      <td>0.3</td>\n",
       "      <td>2.3</td>\n",
       "    </tr>\n",
       "    <tr>\n",
       "      <th>3</th>\n",
       "      <td>AL</td>\n",
       "      <td>addison</td>\n",
       "      <td>99.099998</td>\n",
       "      <td>0.100000</td>\n",
       "      <td>0.0</td>\n",
       "      <td>0.1</td>\n",
       "      <td>0.4</td>\n",
       "    </tr>\n",
       "    <tr>\n",
       "      <th>4</th>\n",
       "      <td>AL</td>\n",
       "      <td>akron</td>\n",
       "      <td>13.200000</td>\n",
       "      <td>86.500000</td>\n",
       "      <td>0.0</td>\n",
       "      <td>0.0</td>\n",
       "      <td>0.3</td>\n",
       "    </tr>\n",
       "  </tbody>\n",
       "</table>\n",
       "</div>"
      ],
      "text/plain": [
       "  state        city      white      black  native_american  asian  hispanic\n",
       "0    AL      abanda  67.199997  30.200001              0.0    0.0       1.6\n",
       "1    AL   abbeville  54.400002  41.400002              0.1    1.0       3.1\n",
       "2    AL  adamsville  52.299999  44.900002              0.5    0.3       2.3\n",
       "3    AL     addison  99.099998   0.100000              0.0    0.1       0.4\n",
       "4    AL       akron  13.200000  86.500000              0.0    0.0       0.3"
      ]
     },
     "execution_count": 61,
     "metadata": {},
     "output_type": "execute_result"
    }
   ],
   "source": [
    "RaceStats = pq.read_table(filenameracestats).to_pandas()\n",
    "RaceStats.head()"
   ]
  },
  {
   "cell_type": "markdown",
   "metadata": {},
   "source": [
    "<h2> Bootstrapping </h2>"
   ]
  },
  {
   "cell_type": "markdown",
   "metadata": {},
   "source": [
    "We will now bootstrap the means of the ages of all victims of police shootings."
   ]
  },
  {
   "cell_type": "code",
   "execution_count": 62,
   "metadata": {},
   "outputs": [],
   "source": [
    "age = Killings.age\n",
    "bootstrap = np.array([])"
   ]
  },
  {
   "cell_type": "code",
   "execution_count": 63,
   "metadata": {},
   "outputs": [
    {
     "data": {
      "image/png": "[encoded data removed]",
      "text/plain": [
       "<matplotlib.figure.Figure at 0x7fce48170390>"
      ]
     },
     "metadata": {},
     "output_type": "display_data"
    }
   ],
   "source": [
    "for i in range(5000):\n",
    "    bstrap = np.random.choice(age,size = age.shape[0])\n",
    "    bootstrap = np.append(bootstrap,bstrap.mean())\n",
    "confidence = np.percentile(bootstrap,(2.5,97.5))\n",
    "plt.hist(bootstrap)\n",
    "plt.axvline(x = age.mean(),color = \"red\")\n",
    "plt.axvline(x = confidence[0],color = \"green\")\n",
    "plt.axvline(x = confidence[1],color = \"green\")\n",
    "plt.grid(axis = \"x\")\n",
    "plt.title(\"Bootstrapped Mean Ages of Victims\")\n",
    "plt.show()"
   ]
  },
  {
   "cell_type": "code",
   "execution_count": 64,
   "metadata": {},
   "outputs": [
    {
     "name": "stdout",
     "output_type": "stream",
     "text": [
      "Bootstrapped mean of age of all victims is 36.29885168909474 with a 95% confidence interval between 35.78741770287845 and 36.80940011857324\n"
     ]
    }
   ],
   "source": [
    "print(\"Bootstrapped mean of age of all victims is \"+str(bootstrap.mean())+\" with a 95% confidence interval between \"+str(confidence[0])+\" and \"+str(confidence[1]))"
   ]
  },
  {
   "cell_type": "markdown",
   "metadata": {},
   "source": [
    "We will now find the bootstrapped means and confidence intervals for all the ages divided by race."
   ]
  },
  {
   "cell_type": "code",
   "execution_count": 65,
   "metadata": {},
   "outputs": [],
   "source": [
    "asian = Killings.loc[Killings.race == \"asian\"]\n",
    "black = Killings.loc[Killings.race == \"black\"]\n",
    "native = Killings.loc[Killings.race == \"native\"]\n",
    "white = Killings.loc[Killings.race == \"white\"]\n",
    "hispanic = Killings.loc[Killings.race == \"hispanic\"]\n",
    "asian = asian.age\n",
    "black = black.age\n",
    "native = native.age\n",
    "white = white.age\n",
    "hispanic = hispanic.age"
   ]
  },
  {
   "cell_type": "code",
   "execution_count": 66,
   "metadata": {},
   "outputs": [
    {
     "data": {
      "image/png": "[encoded data removed]",
      "text/plain": [
       "<matplotlib.figure.Figure at 0x7fce4818c160>"
      ]
     },
     "metadata": {},
     "output_type": "display_data"
    }
   ],
   "source": [
    "bootstrap = np.array([])\n",
    "for i in range(5000):\n",
    "    bstrap = np.random.choice(asian,size = asian.shape[0])\n",
    "    bootstrap = np.append(bootstrap,bstrap.mean())\n",
    "confidence = np.percentile(bootstrap,(2.5,97.5))\n",
    "plt.hist(bootstrap)\n",
    "plt.axvline(x = asian.mean(),color = \"red\")\n",
    "plt.axvline(x = confidence[0],color = \"green\")\n",
    "plt.axvline(x = confidence[1],color = \"green\")\n",
    "plt.grid(axis = \"x\")\n",
    "plt.title(\"Bootstrapped Mean Ages of Asian Victims\")\n",
    "plt.show()"
   ]
  },
  {
   "cell_type": "code",
   "execution_count": 67,
   "metadata": {},
   "outputs": [
    {
     "name": "stdout",
     "output_type": "stream",
     "text": [
      "Bootstrapped mean of age of Asian victims is 36.61692441217584 with a 95% confidence interval between 33.204875237320316 and 40.185143748304846\n"
     ]
    }
   ],
   "source": [
    "print(\"Bootstrapped mean of age of Asian victims is \"+str(bootstrap.mean())+\" with a 95% confidence interval between \"+str(confidence[0])+\" and \"+str(confidence[1]))"
   ]
  },
  {
   "cell_type": "code",
   "execution_count": 68,
   "metadata": {},
   "outputs": [
    {
     "data": {
      "image/png": "[encoded data removed]",
      "text/plain": [
       "<matplotlib.figure.Figure at 0x7fce4805f2e8>"
      ]
     },
     "metadata": {},
     "output_type": "display_data"
    }
   ],
   "source": [
    "bootstrap = np.array([])\n",
    "for i in range(5000):\n",
    "    bstrap = np.random.choice(black,size = black.shape[0])\n",
    "    bootstrap = np.append(bootstrap,bstrap.mean())\n",
    "confidence = np.percentile(bootstrap,(2.5,97.5))\n",
    "plt.hist(bootstrap)\n",
    "plt.axvline(x = black.mean(),color = \"red\")\n",
    "plt.axvline(x = confidence[0],color = \"green\")\n",
    "plt.axvline(x = confidence[1],color = \"green\")\n",
    "plt.grid(axis = \"x\")\n",
    "plt.title(\"Bootstrapped Mean Ages of Black Victims\")\n",
    "plt.show()"
   ]
  },
  {
   "cell_type": "code",
   "execution_count": 69,
   "metadata": {},
   "outputs": [
    {
     "name": "stdout",
     "output_type": "stream",
     "text": [
      "Bootstrapped mean of age of Black victims is 31.716971694565796 with a 95% confidence interval between 30.85731805661982 and 32.566410979537125\n"
     ]
    }
   ],
   "source": [
    "print(\"Bootstrapped mean of age of Black victims is \"+str(bootstrap.mean())+\" with a 95% confidence interval between \"+str(confidence[0])+\" and \"+str(confidence[1]))"
   ]
  },
  {
   "cell_type": "code",
   "execution_count": 70,
   "metadata": {},
   "outputs": [
    {
     "data": {
      "image/png": "[encoded data removed]",
      "text/plain": [
       "<matplotlib.figure.Figure at 0x7fce287cf0b8>"
      ]
     },
     "metadata": {},
     "output_type": "display_data"
    }
   ],
   "source": [
    "bootstrap = np.array([])\n",
    "for i in range(5000):\n",
    "    bstrap = np.random.choice(white,size = white.shape[0])\n",
    "    bootstrap = np.append(bootstrap,bstrap.mean())\n",
    "confidence = np.percentile(bootstrap,(2.5,97.5))\n",
    "plt.hist(bootstrap)\n",
    "plt.axvline(x = white.mean(),color = \"red\")\n",
    "plt.axvline(x = confidence[0],color = \"green\")\n",
    "plt.axvline(x = confidence[1],color = \"green\")\n",
    "plt.grid(axis = \"x\")\n",
    "plt.title(\"Bootstrapped Mean Ages of White Victims\")\n",
    "plt.show()"
   ]
  },
  {
   "cell_type": "code",
   "execution_count": 71,
   "metadata": {},
   "outputs": [
    {
     "name": "stdout",
     "output_type": "stream",
     "text": [
      "Bootstrapped mean of age of White victims is 40.02811897123973 with a 95% confidence interval between 39.27046885596422 and 40.77144630965923\n"
     ]
    }
   ],
   "source": [
    "print(\"Bootstrapped mean of age of White victims is \"+str(bootstrap.mean())+\" with a 95% confidence interval between \"+str(confidence[0])+\" and \"+str(confidence[1]))"
   ]
  },
  {
   "cell_type": "code",
   "execution_count": 72,
   "metadata": {},
   "outputs": [
    {
     "data": {
      "image/png": "[encoded data removed]",
      "text/plain": [
       "<matplotlib.figure.Figure at 0x7fce480630b8>"
      ]
     },
     "metadata": {},
     "output_type": "display_data"
    }
   ],
   "source": [
    "bootstrap = np.array([])\n",
    "for i in range(5000):\n",
    "    bstrap = np.random.choice(hispanic,size = hispanic.shape[0])\n",
    "    bootstrap = np.append(bootstrap,bstrap.mean())\n",
    "confidence = np.percentile(bootstrap,(2.5,97.5))\n",
    "plt.hist(bootstrap)\n",
    "plt.axvline(x = hispanic.mean(),color = \"red\")\n",
    "plt.axvline(x = confidence[0],color = \"green\")\n",
    "plt.axvline(x = confidence[1],color = \"green\")\n",
    "plt.grid(axis = \"x\")\n",
    "plt.title(\"Bootstrapped Mean Ages of Hispanic Victims\")\n",
    "plt.show()"
   ]
  },
  {
   "cell_type": "code",
   "execution_count": 73,
   "metadata": {},
   "outputs": [
    {
     "name": "stdout",
     "output_type": "stream",
     "text": [
      "Bootstrapped mean of age of Hispanic victims is 33.07438945384108 with a 95% confidence interval between 32.076761027339685 and 34.097988187363306\n"
     ]
    }
   ],
   "source": [
    "print(\"Bootstrapped mean of age of Hispanic victims is \"+str(bootstrap.mean())+\" with a 95% confidence interval between \"+str(confidence[0])+\" and \"+str(confidence[1]))"
   ]
  },
  {
   "cell_type": "markdown",
   "metadata": {},
   "source": [
    "<h2> Logistic Regression </h2>"
   ]
  },
  {
   "cell_type": "markdown",
   "metadata": {},
   "source": [
    "To predict the value of a categorical outcome, logistic regression is used. In this case we will be using logistic regression to predict the race of the victims."
   ]
  },
  {
   "cell_type": "markdown",
   "metadata": {},
   "source": [
    "First, we must combine all our numerical data together."
   ]
  },
  {
   "cell_type": "code",
   "execution_count": 74,
   "metadata": {},
   "outputs": [],
   "source": [
    "data = pd.merge(Killings,Income, on = [\"state\",\"city\"], how = 'inner')\n",
    "data = pd.merge(data, BelowPoverty, on = [\"state\",\"city\"], how = 'inner')\n",
    "data = pd.merge(data, Education, on = [\"state\",\"city\"], how = 'inner')\n",
    "data = pd.merge(data, RaceStats, on = [\"state\",\"city\"], how = 'inner')\n",
    "data = data.dropna()"
   ]
  },
  {
   "cell_type": "code",
   "execution_count": 75,
   "metadata": {},
   "outputs": [
    {
     "data": {
      "text/html": [
       "<div>\n",
       "<style scoped>\n",
       "    .dataframe tbody tr th:only-of-type {\n",
       "        vertical-align: middle;\n",
       "    }\n",
       "\n",
       "    .dataframe tbody tr th {\n",
       "        vertical-align: top;\n",
       "    }\n",
       "\n",
       "    .dataframe thead th {\n",
       "        text-align: right;\n",
       "    }\n",
       "</style>\n",
       "<table border=\"1\" class=\"dataframe\">\n",
       "  <thead>\n",
       "    <tr style=\"text-align: right;\">\n",
       "      <th></th>\n",
       "      <th>name</th>\n",
       "      <th>date</th>\n",
       "      <th>cause_of_death</th>\n",
       "      <th>armed</th>\n",
       "      <th>age</th>\n",
       "      <th>gender</th>\n",
       "      <th>race</th>\n",
       "      <th>city</th>\n",
       "      <th>state</th>\n",
       "      <th>mental_illness</th>\n",
       "      <th>...</th>\n",
       "      <th>flee</th>\n",
       "      <th>body_camera</th>\n",
       "      <th>median_income</th>\n",
       "      <th>poverty_rate</th>\n",
       "      <th>completed_hs</th>\n",
       "      <th>white</th>\n",
       "      <th>black</th>\n",
       "      <th>native_american</th>\n",
       "      <th>asian</th>\n",
       "      <th>hispanic</th>\n",
       "    </tr>\n",
       "  </thead>\n",
       "  <tbody>\n",
       "    <tr>\n",
       "      <th>0</th>\n",
       "      <td>Tim Elliot</td>\n",
       "      <td>2015-01-02</td>\n",
       "      <td>shot</td>\n",
       "      <td>gun</td>\n",
       "      <td>53.0</td>\n",
       "      <td>M</td>\n",
       "      <td>asian</td>\n",
       "      <td>shelton</td>\n",
       "      <td>WA</td>\n",
       "      <td>True</td>\n",
       "      <td>...</td>\n",
       "      <td>not fleeing</td>\n",
       "      <td>False</td>\n",
       "      <td>37072</td>\n",
       "      <td>28.600000</td>\n",
       "      <td>80.099998</td>\n",
       "      <td>78.900002</td>\n",
       "      <td>0.8</td>\n",
       "      <td>3.7</td>\n",
       "      <td>1.1</td>\n",
       "      <td>19.200001</td>\n",
       "    </tr>\n",
       "    <tr>\n",
       "      <th>1</th>\n",
       "      <td>Lewis Lee Lembke</td>\n",
       "      <td>2015-01-02</td>\n",
       "      <td>shot</td>\n",
       "      <td>gun</td>\n",
       "      <td>47.0</td>\n",
       "      <td>M</td>\n",
       "      <td>white</td>\n",
       "      <td>aloha</td>\n",
       "      <td>OR</td>\n",
       "      <td>False</td>\n",
       "      <td>...</td>\n",
       "      <td>not fleeing</td>\n",
       "      <td>False</td>\n",
       "      <td>65765</td>\n",
       "      <td>14.900000</td>\n",
       "      <td>88.099998</td>\n",
       "      <td>70.900002</td>\n",
       "      <td>2.6</td>\n",
       "      <td>1.0</td>\n",
       "      <td>8.9</td>\n",
       "      <td>21.100000</td>\n",
       "    </tr>\n",
       "    <tr>\n",
       "      <th>2</th>\n",
       "      <td>Phyllis Ilene Jepsen</td>\n",
       "      <td>2015-10-02</td>\n",
       "      <td>shot</td>\n",
       "      <td>knife</td>\n",
       "      <td>55.0</td>\n",
       "      <td>F</td>\n",
       "      <td>white</td>\n",
       "      <td>aloha</td>\n",
       "      <td>OR</td>\n",
       "      <td>True</td>\n",
       "      <td>...</td>\n",
       "      <td>not fleeing</td>\n",
       "      <td>False</td>\n",
       "      <td>65765</td>\n",
       "      <td>14.900000</td>\n",
       "      <td>88.099998</td>\n",
       "      <td>70.900002</td>\n",
       "      <td>2.6</td>\n",
       "      <td>1.0</td>\n",
       "      <td>8.9</td>\n",
       "      <td>21.100000</td>\n",
       "    </tr>\n",
       "    <tr>\n",
       "      <th>3</th>\n",
       "      <td>John Paul Quintero</td>\n",
       "      <td>2015-01-03</td>\n",
       "      <td>shot and Tasered</td>\n",
       "      <td>unarmed</td>\n",
       "      <td>23.0</td>\n",
       "      <td>M</td>\n",
       "      <td>hispanic</td>\n",
       "      <td>wichita</td>\n",
       "      <td>KS</td>\n",
       "      <td>False</td>\n",
       "      <td>...</td>\n",
       "      <td>not fleeing</td>\n",
       "      <td>False</td>\n",
       "      <td>45947</td>\n",
       "      <td>17.299999</td>\n",
       "      <td>87.500000</td>\n",
       "      <td>71.900002</td>\n",
       "      <td>11.5</td>\n",
       "      <td>1.2</td>\n",
       "      <td>4.8</td>\n",
       "      <td>15.300000</td>\n",
       "    </tr>\n",
       "    <tr>\n",
       "      <th>4</th>\n",
       "      <td>Nicholas Garner</td>\n",
       "      <td>2015-08-22</td>\n",
       "      <td>shot</td>\n",
       "      <td>vehicle</td>\n",
       "      <td>26.0</td>\n",
       "      <td>M</td>\n",
       "      <td>white</td>\n",
       "      <td>wichita</td>\n",
       "      <td>KS</td>\n",
       "      <td>False</td>\n",
       "      <td>...</td>\n",
       "      <td>car</td>\n",
       "      <td>False</td>\n",
       "      <td>45947</td>\n",
       "      <td>17.299999</td>\n",
       "      <td>87.500000</td>\n",
       "      <td>71.900002</td>\n",
       "      <td>11.5</td>\n",
       "      <td>1.2</td>\n",
       "      <td>4.8</td>\n",
       "      <td>15.300000</td>\n",
       "    </tr>\n",
       "  </tbody>\n",
       "</table>\n",
       "<p>5 rows × 21 columns</p>\n",
       "</div>"
      ],
      "text/plain": [
       "                   name       date    cause_of_death    armed   age gender  \\\n",
       "0            Tim Elliot 2015-01-02              shot      gun  53.0      M   \n",
       "1      Lewis Lee Lembke 2015-01-02              shot      gun  47.0      M   \n",
       "2  Phyllis Ilene Jepsen 2015-10-02              shot    knife  55.0      F   \n",
       "3    John Paul Quintero 2015-01-03  shot and Tasered  unarmed  23.0      M   \n",
       "4       Nicholas Garner 2015-08-22              shot  vehicle  26.0      M   \n",
       "\n",
       "       race     city state  mental_illness    ...             flee  \\\n",
       "0     asian  shelton    WA            True    ...      not fleeing   \n",
       "1     white    aloha    OR           False    ...      not fleeing   \n",
       "2     white    aloha    OR            True    ...      not fleeing   \n",
       "3  hispanic  wichita    KS           False    ...      not fleeing   \n",
       "4     white  wichita    KS           False    ...              car   \n",
       "\n",
       "  body_camera  median_income  poverty_rate  completed_hs      white  black  \\\n",
       "0       False          37072     28.600000     80.099998  78.900002    0.8   \n",
       "1       False          65765     14.900000     88.099998  70.900002    2.6   \n",
       "2       False          65765     14.900000     88.099998  70.900002    2.6   \n",
       "3       False          45947     17.299999     87.500000  71.900002   11.5   \n",
       "4       False          45947     17.299999     87.500000  71.900002   11.5   \n",
       "\n",
       "   native_american  asian   hispanic  \n",
       "0              3.7    1.1  19.200001  \n",
       "1              1.0    8.9  21.100000  \n",
       "2              1.0    8.9  21.100000  \n",
       "3              1.2    4.8  15.300000  \n",
       "4              1.2    4.8  15.300000  \n",
       "\n",
       "[5 rows x 21 columns]"
      ]
     },
     "execution_count": 75,
     "metadata": {},
     "output_type": "execute_result"
    }
   ],
   "source": [
    "data.head()"
   ]
  },
  {
   "cell_type": "markdown",
   "metadata": {},
   "source": [
    "Now, we must create dummy variables (a numerical variable used in regression analysis to represent the subgroups of the sample). We concatenate the above data with the dummy variables, and we drop all the categorical columns (not including race)"
   ]
  },
  {
   "cell_type": "code",
   "execution_count": 76,
   "metadata": {},
   "outputs": [
    {
     "data": {
      "text/html": [
       "<div>\n",
       "<style scoped>\n",
       "    .dataframe tbody tr th:only-of-type {\n",
       "        vertical-align: middle;\n",
       "    }\n",
       "\n",
       "    .dataframe tbody tr th {\n",
       "        vertical-align: top;\n",
       "    }\n",
       "\n",
       "    .dataframe thead th {\n",
       "        text-align: right;\n",
       "    }\n",
       "</style>\n",
       "<table border=\"1\" class=\"dataframe\">\n",
       "  <thead>\n",
       "    <tr style=\"text-align: right;\">\n",
       "      <th></th>\n",
       "      <th>age</th>\n",
       "      <th>race</th>\n",
       "      <th>median_income</th>\n",
       "      <th>poverty_rate</th>\n",
       "      <th>completed_hs</th>\n",
       "      <th>white</th>\n",
       "      <th>black</th>\n",
       "      <th>native_american</th>\n",
       "      <th>asian</th>\n",
       "      <th>hispanic</th>\n",
       "      <th>...</th>\n",
       "      <th>state_WA</th>\n",
       "      <th>state_WI</th>\n",
       "      <th>state_WV</th>\n",
       "      <th>state_WY</th>\n",
       "      <th>threat_level_other</th>\n",
       "      <th>threat_level_undetermined</th>\n",
       "      <th>flee_foot</th>\n",
       "      <th>flee_not fleeing</th>\n",
       "      <th>flee_other</th>\n",
       "      <th>flee_unknown</th>\n",
       "    </tr>\n",
       "  </thead>\n",
       "  <tbody>\n",
       "    <tr>\n",
       "      <th>0</th>\n",
       "      <td>53.0</td>\n",
       "      <td>asian</td>\n",
       "      <td>37072</td>\n",
       "      <td>28.600000</td>\n",
       "      <td>80.099998</td>\n",
       "      <td>78.900002</td>\n",
       "      <td>0.8</td>\n",
       "      <td>3.7</td>\n",
       "      <td>1.1</td>\n",
       "      <td>19.200001</td>\n",
       "      <td>...</td>\n",
       "      <td>1</td>\n",
       "      <td>0</td>\n",
       "      <td>0</td>\n",
       "      <td>0</td>\n",
       "      <td>0</td>\n",
       "      <td>0</td>\n",
       "      <td>0</td>\n",
       "      <td>1</td>\n",
       "      <td>0</td>\n",
       "      <td>0</td>\n",
       "    </tr>\n",
       "    <tr>\n",
       "      <th>1</th>\n",
       "      <td>47.0</td>\n",
       "      <td>white</td>\n",
       "      <td>65765</td>\n",
       "      <td>14.900000</td>\n",
       "      <td>88.099998</td>\n",
       "      <td>70.900002</td>\n",
       "      <td>2.6</td>\n",
       "      <td>1.0</td>\n",
       "      <td>8.9</td>\n",
       "      <td>21.100000</td>\n",
       "      <td>...</td>\n",
       "      <td>0</td>\n",
       "      <td>0</td>\n",
       "      <td>0</td>\n",
       "      <td>0</td>\n",
       "      <td>0</td>\n",
       "      <td>0</td>\n",
       "      <td>0</td>\n",
       "      <td>1</td>\n",
       "      <td>0</td>\n",
       "      <td>0</td>\n",
       "    </tr>\n",
       "    <tr>\n",
       "      <th>2</th>\n",
       "      <td>55.0</td>\n",
       "      <td>white</td>\n",
       "      <td>65765</td>\n",
       "      <td>14.900000</td>\n",
       "      <td>88.099998</td>\n",
       "      <td>70.900002</td>\n",
       "      <td>2.6</td>\n",
       "      <td>1.0</td>\n",
       "      <td>8.9</td>\n",
       "      <td>21.100000</td>\n",
       "      <td>...</td>\n",
       "      <td>0</td>\n",
       "      <td>0</td>\n",
       "      <td>0</td>\n",
       "      <td>0</td>\n",
       "      <td>1</td>\n",
       "      <td>0</td>\n",
       "      <td>0</td>\n",
       "      <td>1</td>\n",
       "      <td>0</td>\n",
       "      <td>0</td>\n",
       "    </tr>\n",
       "    <tr>\n",
       "      <th>3</th>\n",
       "      <td>23.0</td>\n",
       "      <td>hispanic</td>\n",
       "      <td>45947</td>\n",
       "      <td>17.299999</td>\n",
       "      <td>87.500000</td>\n",
       "      <td>71.900002</td>\n",
       "      <td>11.5</td>\n",
       "      <td>1.2</td>\n",
       "      <td>4.8</td>\n",
       "      <td>15.300000</td>\n",
       "      <td>...</td>\n",
       "      <td>0</td>\n",
       "      <td>0</td>\n",
       "      <td>0</td>\n",
       "      <td>0</td>\n",
       "      <td>1</td>\n",
       "      <td>0</td>\n",
       "      <td>0</td>\n",
       "      <td>1</td>\n",
       "      <td>0</td>\n",
       "      <td>0</td>\n",
       "    </tr>\n",
       "    <tr>\n",
       "      <th>4</th>\n",
       "      <td>26.0</td>\n",
       "      <td>white</td>\n",
       "      <td>45947</td>\n",
       "      <td>17.299999</td>\n",
       "      <td>87.500000</td>\n",
       "      <td>71.900002</td>\n",
       "      <td>11.5</td>\n",
       "      <td>1.2</td>\n",
       "      <td>4.8</td>\n",
       "      <td>15.300000</td>\n",
       "      <td>...</td>\n",
       "      <td>0</td>\n",
       "      <td>0</td>\n",
       "      <td>0</td>\n",
       "      <td>0</td>\n",
       "      <td>0</td>\n",
       "      <td>0</td>\n",
       "      <td>0</td>\n",
       "      <td>0</td>\n",
       "      <td>0</td>\n",
       "      <td>0</td>\n",
       "    </tr>\n",
       "  </tbody>\n",
       "</table>\n",
       "<p>5 rows × 1190 columns</p>\n",
       "</div>"
      ],
      "text/plain": [
       "    age      race  median_income  poverty_rate  completed_hs      white  \\\n",
       "0  53.0     asian          37072     28.600000     80.099998  78.900002   \n",
       "1  47.0     white          65765     14.900000     88.099998  70.900002   \n",
       "2  55.0     white          65765     14.900000     88.099998  70.900002   \n",
       "3  23.0  hispanic          45947     17.299999     87.500000  71.900002   \n",
       "4  26.0     white          45947     17.299999     87.500000  71.900002   \n",
       "\n",
       "   black  native_american  asian   hispanic      ...       state_WA  state_WI  \\\n",
       "0    0.8              3.7    1.1  19.200001      ...              1         0   \n",
       "1    2.6              1.0    8.9  21.100000      ...              0         0   \n",
       "2    2.6              1.0    8.9  21.100000      ...              0         0   \n",
       "3   11.5              1.2    4.8  15.300000      ...              0         0   \n",
       "4   11.5              1.2    4.8  15.300000      ...              0         0   \n",
       "\n",
       "   state_WV  state_WY  threat_level_other  threat_level_undetermined  \\\n",
       "0         0         0                   0                          0   \n",
       "1         0         0                   0                          0   \n",
       "2         0         0                   1                          0   \n",
       "3         0         0                   1                          0   \n",
       "4         0         0                   0                          0   \n",
       "\n",
       "   flee_foot  flee_not fleeing  flee_other  flee_unknown  \n",
       "0          0                 1           0             0  \n",
       "1          0                 1           0             0  \n",
       "2          0                 1           0             0  \n",
       "3          0                 1           0             0  \n",
       "4          0                 0           0             0  \n",
       "\n",
       "[5 rows x 1190 columns]"
      ]
     },
     "execution_count": 76,
     "metadata": {},
     "output_type": "execute_result"
    }
   ],
   "source": [
    "dummies = pd.get_dummies(data[[\"armed\", \"gender\", \"city\", \"state\", \"threat_level\", \"flee\",\"mental_illness\", \"body_camera\"]], drop_first=True)\n",
    "dummies = pd.concat([data, dummies], axis=1)\n",
    "dummies.drop(data[[\"date\", \"armed\", \"gender\", \"city\", \"state\", \"threat_level\", \"flee\",\"mental_illness\", \"body_camera\",\"cause_of_death\",\"name\"]], axis=1, inplace=True)\n",
    "dummies.dropna()\n",
    "dummies.head()"
   ]
  },
  {
   "cell_type": "markdown",
   "metadata": {},
   "source": [
    "X will be all the variables except race, and y will be race. We will be seeing how well all the combined variables in this data set will allow for us to predict race. We will test and train the data and fit it onto a LogisticRegression model."
   ]
  },
  {
   "cell_type": "code",
   "execution_count": 77,
   "metadata": {},
   "outputs": [
    {
     "data": {
      "text/plain": [
       "LogisticRegression(C=1.0, class_weight=None, dual=False, fit_intercept=True,\n",
       "          intercept_scaling=1, max_iter=100, multi_class='ovr', n_jobs=1,\n",
       "          penalty='l2', random_state=None, solver='liblinear', tol=0.0001,\n",
       "          verbose=0, warm_start=False)"
      ]
     },
     "execution_count": 77,
     "metadata": {},
     "output_type": "execute_result"
    }
   ],
   "source": [
    "X = dummies.drop(\"race\", axis=1)\n",
    "y = dummies[\"race\"]\n",
    "\n",
    "X_train, X_test, y_train, y_test = train_test_split(X, y, test_size=0.3, random_state=101)\n",
    "logmodel = LogisticRegression()\n",
    "logmodel.fit(X_train, y_train)"
   ]
  },
  {
   "cell_type": "markdown",
   "metadata": {},
   "source": [
    "Using the logistic model, we will now predict the values based on the test values. After we print a classification report to determine how precise the y_test values were to the predictions."
   ]
  },
  {
   "cell_type": "code",
   "execution_count": 78,
   "metadata": {},
   "outputs": [
    {
     "name": "stdout",
     "output_type": "stream",
     "text": [
      "                precision    recall  f1-score   support\n",
      "\n",
      "         asian       0.50      0.11      0.18         9\n",
      "         black       0.64      0.53      0.58       165\n",
      "      hispanic       0.57      0.52      0.54       130\n",
      "nativeamerican       0.00      0.00      0.00        16\n",
      "         other       0.67      0.29      0.40         7\n",
      "         white       0.68      0.82      0.74       313\n",
      "\n",
      "   avg / total       0.63      0.65      0.63       640\n",
      "\n"
     ]
    }
   ],
   "source": [
    "predictions = logmodel.predict(X_test)\n",
    "print (classification_report(y_test, predictions))"
   ]
  },
  {
   "cell_type": "markdown",
   "metadata": {},
   "source": [
    "We can see that the predictions were roughly 63% precise.\n",
    "\n",
    "We will now check the accuracy score below."
   ]
  },
  {
   "cell_type": "code",
   "execution_count": 79,
   "metadata": {},
   "outputs": [
    {
     "data": {
      "text/plain": [
       "0.646875"
      ]
     },
     "execution_count": 79,
     "metadata": {},
     "output_type": "execute_result"
    }
   ],
   "source": [
    "log_accuracy_score = accuracy_score(y_test, predictions)\n",
    "log_accuracy_score"
   ]
  },
  {
   "cell_type": "markdown",
   "metadata": {},
   "source": [
    "We will now apply GridSearch to the Logistic Regression model. We create the GridSearchCV with 5 fold cross validation. We then fit the GridSearch model onto the X_train and y_train model from before."
   ]
  },
  {
   "cell_type": "code",
   "execution_count": 80,
   "metadata": {},
   "outputs": [
    {
     "data": {
      "text/plain": [
       "GridSearchCV(cv=5, error_score='raise',\n",
       "       estimator=LogisticRegression(C=1.0, class_weight=None, dual=False, fit_intercept=True,\n",
       "          intercept_scaling=1, max_iter=100, multi_class='ovr', n_jobs=1,\n",
       "          penalty='l2', random_state=None, solver='liblinear', tol=0.0001,\n",
       "          verbose=0, warm_start=False),\n",
       "       fit_params=None, iid=True, n_jobs=1,\n",
       "       param_grid={'max_iter': [20, 30, 50], 'C': [1.0, 2.0, 3.0]},\n",
       "       pre_dispatch='2*n_jobs', refit=True, return_train_score='warn',\n",
       "       scoring='accuracy', verbose=0)"
      ]
     },
     "execution_count": 80,
     "metadata": {},
     "output_type": "execute_result"
    }
   ],
   "source": [
    "params = {\"max_iter\": [20,30,50],\n",
    "         \"C\": [1.0, 2.0, 3.0]}\n",
    "gs_logmodel = model_selection.GridSearchCV(estimator=logmodel,\n",
    "                                 param_grid=params,\n",
    "                                 cv=5,\n",
    "                                 scoring=\"accuracy\")\n",
    "gs_logmodel.fit(X_train, y_train)"
   ]
  },
  {
   "cell_type": "code",
   "execution_count": 81,
   "metadata": {},
   "outputs": [
    {
     "data": {
      "text/plain": [
       "{'C': 1.0, 'max_iter': 20}"
      ]
     },
     "execution_count": 81,
     "metadata": {},
     "output_type": "execute_result"
    }
   ],
   "source": [
    "gs_logmodel.best_params_"
   ]
  },
  {
   "cell_type": "markdown",
   "metadata": {},
   "source": [
    "We get the accuracacy score of this model, regarding how much the predicted labels match the predicted labels."
   ]
  },
  {
   "cell_type": "code",
   "execution_count": 82,
   "metadata": {},
   "outputs": [
    {
     "data": {
      "text/plain": [
       "0.6720321931589537"
      ]
     },
     "execution_count": 82,
     "metadata": {},
     "output_type": "execute_result"
    }
   ],
   "source": [
    "gs_logmodel_accuracy_score = gs_logmodel.best_score_\n",
    "gs_logmodel_accuracy_score"
   ]
  },
  {
   "cell_type": "markdown",
   "metadata": {},
   "source": [
    "The confusion matrix of predicted label vs true label."
   ]
  },
  {
   "cell_type": "code",
   "execution_count": 83,
   "metadata": {},
   "outputs": [
    {
     "data": {
      "image/png": "[encoded data removed]",
      "text/plain": [
       "<matplotlib.figure.Figure at 0x7fce480b7f98>"
      ]
     },
     "metadata": {},
     "output_type": "display_data"
    }
   ],
   "source": [
    "mat = confusion_matrix(y_test, predictions)\n",
    "sns.heatmap(mat.T, square=True, annot=True, fmt='d', cbar=False)\n",
    "plt.xlabel('true label')\n",
    "plt.ylabel('predicted label');"
   ]
  },
  {
   "cell_type": "markdown",
   "metadata": {},
   "source": [
    "The model was roughly 67.203% accurate."
   ]
  },
  {
   "cell_type": "markdown",
   "metadata": {},
   "source": [
    "<h2> Random Forest Classifier </h2>"
   ]
  },
  {
   "cell_type": "markdown",
   "metadata": {},
   "source": [
    "Random Forests are an ensemble learning methond for classification. It operates by creating several decision trees while training and outputs the class that is the mode of the classes. We will use this model to predict race."
   ]
  },
  {
   "cell_type": "code",
   "execution_count": 84,
   "metadata": {},
   "outputs": [
    {
     "data": {
      "text/html": [
       "<div>\n",
       "<style scoped>\n",
       "    .dataframe tbody tr th:only-of-type {\n",
       "        vertical-align: middle;\n",
       "    }\n",
       "\n",
       "    .dataframe tbody tr th {\n",
       "        vertical-align: top;\n",
       "    }\n",
       "\n",
       "    .dataframe thead th {\n",
       "        text-align: right;\n",
       "    }\n",
       "</style>\n",
       "<table border=\"1\" class=\"dataframe\">\n",
       "  <thead>\n",
       "    <tr style=\"text-align: right;\">\n",
       "      <th></th>\n",
       "      <th>name</th>\n",
       "      <th>date</th>\n",
       "      <th>cause_of_death</th>\n",
       "      <th>armed</th>\n",
       "      <th>age</th>\n",
       "      <th>gender</th>\n",
       "      <th>race</th>\n",
       "      <th>city</th>\n",
       "      <th>state</th>\n",
       "      <th>mental_illness</th>\n",
       "      <th>...</th>\n",
       "      <th>flee</th>\n",
       "      <th>body_camera</th>\n",
       "      <th>median_income</th>\n",
       "      <th>poverty_rate</th>\n",
       "      <th>completed_hs</th>\n",
       "      <th>white</th>\n",
       "      <th>black</th>\n",
       "      <th>native_american</th>\n",
       "      <th>asian</th>\n",
       "      <th>hispanic</th>\n",
       "    </tr>\n",
       "  </thead>\n",
       "  <tbody>\n",
       "    <tr>\n",
       "      <th>0</th>\n",
       "      <td>Tim Elliot</td>\n",
       "      <td>2015-01-02</td>\n",
       "      <td>shot</td>\n",
       "      <td>gun</td>\n",
       "      <td>53.0</td>\n",
       "      <td>M</td>\n",
       "      <td>asian</td>\n",
       "      <td>shelton</td>\n",
       "      <td>WA</td>\n",
       "      <td>True</td>\n",
       "      <td>...</td>\n",
       "      <td>not fleeing</td>\n",
       "      <td>False</td>\n",
       "      <td>37072</td>\n",
       "      <td>28.600000</td>\n",
       "      <td>80.099998</td>\n",
       "      <td>78.900002</td>\n",
       "      <td>0.8</td>\n",
       "      <td>3.7</td>\n",
       "      <td>1.1</td>\n",
       "      <td>19.200001</td>\n",
       "    </tr>\n",
       "    <tr>\n",
       "      <th>1</th>\n",
       "      <td>Lewis Lee Lembke</td>\n",
       "      <td>2015-01-02</td>\n",
       "      <td>shot</td>\n",
       "      <td>gun</td>\n",
       "      <td>47.0</td>\n",
       "      <td>M</td>\n",
       "      <td>white</td>\n",
       "      <td>aloha</td>\n",
       "      <td>OR</td>\n",
       "      <td>False</td>\n",
       "      <td>...</td>\n",
       "      <td>not fleeing</td>\n",
       "      <td>False</td>\n",
       "      <td>65765</td>\n",
       "      <td>14.900000</td>\n",
       "      <td>88.099998</td>\n",
       "      <td>70.900002</td>\n",
       "      <td>2.6</td>\n",
       "      <td>1.0</td>\n",
       "      <td>8.9</td>\n",
       "      <td>21.100000</td>\n",
       "    </tr>\n",
       "    <tr>\n",
       "      <th>2</th>\n",
       "      <td>Phyllis Ilene Jepsen</td>\n",
       "      <td>2015-10-02</td>\n",
       "      <td>shot</td>\n",
       "      <td>knife</td>\n",
       "      <td>55.0</td>\n",
       "      <td>F</td>\n",
       "      <td>white</td>\n",
       "      <td>aloha</td>\n",
       "      <td>OR</td>\n",
       "      <td>True</td>\n",
       "      <td>...</td>\n",
       "      <td>not fleeing</td>\n",
       "      <td>False</td>\n",
       "      <td>65765</td>\n",
       "      <td>14.900000</td>\n",
       "      <td>88.099998</td>\n",
       "      <td>70.900002</td>\n",
       "      <td>2.6</td>\n",
       "      <td>1.0</td>\n",
       "      <td>8.9</td>\n",
       "      <td>21.100000</td>\n",
       "    </tr>\n",
       "    <tr>\n",
       "      <th>3</th>\n",
       "      <td>John Paul Quintero</td>\n",
       "      <td>2015-01-03</td>\n",
       "      <td>shot and Tasered</td>\n",
       "      <td>unarmed</td>\n",
       "      <td>23.0</td>\n",
       "      <td>M</td>\n",
       "      <td>hispanic</td>\n",
       "      <td>wichita</td>\n",
       "      <td>KS</td>\n",
       "      <td>False</td>\n",
       "      <td>...</td>\n",
       "      <td>not fleeing</td>\n",
       "      <td>False</td>\n",
       "      <td>45947</td>\n",
       "      <td>17.299999</td>\n",
       "      <td>87.500000</td>\n",
       "      <td>71.900002</td>\n",
       "      <td>11.5</td>\n",
       "      <td>1.2</td>\n",
       "      <td>4.8</td>\n",
       "      <td>15.300000</td>\n",
       "    </tr>\n",
       "    <tr>\n",
       "      <th>4</th>\n",
       "      <td>Nicholas Garner</td>\n",
       "      <td>2015-08-22</td>\n",
       "      <td>shot</td>\n",
       "      <td>vehicle</td>\n",
       "      <td>26.0</td>\n",
       "      <td>M</td>\n",
       "      <td>white</td>\n",
       "      <td>wichita</td>\n",
       "      <td>KS</td>\n",
       "      <td>False</td>\n",
       "      <td>...</td>\n",
       "      <td>car</td>\n",
       "      <td>False</td>\n",
       "      <td>45947</td>\n",
       "      <td>17.299999</td>\n",
       "      <td>87.500000</td>\n",
       "      <td>71.900002</td>\n",
       "      <td>11.5</td>\n",
       "      <td>1.2</td>\n",
       "      <td>4.8</td>\n",
       "      <td>15.300000</td>\n",
       "    </tr>\n",
       "  </tbody>\n",
       "</table>\n",
       "<p>5 rows × 21 columns</p>\n",
       "</div>"
      ],
      "text/plain": [
       "                   name       date    cause_of_death    armed   age gender  \\\n",
       "0            Tim Elliot 2015-01-02              shot      gun  53.0      M   \n",
       "1      Lewis Lee Lembke 2015-01-02              shot      gun  47.0      M   \n",
       "2  Phyllis Ilene Jepsen 2015-10-02              shot    knife  55.0      F   \n",
       "3    John Paul Quintero 2015-01-03  shot and Tasered  unarmed  23.0      M   \n",
       "4       Nicholas Garner 2015-08-22              shot  vehicle  26.0      M   \n",
       "\n",
       "       race     city state  mental_illness    ...             flee  \\\n",
       "0     asian  shelton    WA            True    ...      not fleeing   \n",
       "1     white    aloha    OR           False    ...      not fleeing   \n",
       "2     white    aloha    OR            True    ...      not fleeing   \n",
       "3  hispanic  wichita    KS           False    ...      not fleeing   \n",
       "4     white  wichita    KS           False    ...              car   \n",
       "\n",
       "  body_camera  median_income  poverty_rate  completed_hs      white  black  \\\n",
       "0       False          37072     28.600000     80.099998  78.900002    0.8   \n",
       "1       False          65765     14.900000     88.099998  70.900002    2.6   \n",
       "2       False          65765     14.900000     88.099998  70.900002    2.6   \n",
       "3       False          45947     17.299999     87.500000  71.900002   11.5   \n",
       "4       False          45947     17.299999     87.500000  71.900002   11.5   \n",
       "\n",
       "   native_american  asian   hispanic  \n",
       "0              3.7    1.1  19.200001  \n",
       "1              1.0    8.9  21.100000  \n",
       "2              1.0    8.9  21.100000  \n",
       "3              1.2    4.8  15.300000  \n",
       "4              1.2    4.8  15.300000  \n",
       "\n",
       "[5 rows x 21 columns]"
      ]
     },
     "execution_count": 84,
     "metadata": {},
     "output_type": "execute_result"
    }
   ],
   "source": [
    "data.head()"
   ]
  },
  {
   "cell_type": "markdown",
   "metadata": {},
   "source": [
    "We must convert the columns of boolean variables to integers. In addition, we must drop variables that will not help with the training."
   ]
  },
  {
   "cell_type": "code",
   "execution_count": 85,
   "metadata": {},
   "outputs": [],
   "source": [
    "data[\"mental_illness\"] = data[\"mental_illness\"].astype(int)\n",
    "data[\"body_camera\"] = data[\"body_camera\"].astype(int)\n",
    "data = data.drop(data[[\"name\",\"cause_of_death\"]],axis = 1)"
   ]
  },
  {
   "cell_type": "markdown",
   "metadata": {},
   "source": [
    "LabelEncoder is a method of preprocessing to transform categorical labels to numerical labels."
   ]
  },
  {
   "cell_type": "code",
   "execution_count": 86,
   "metadata": {},
   "outputs": [
    {
     "data": {
      "text/plain": [
       "LabelEncoder()"
      ]
     },
     "execution_count": 86,
     "metadata": {},
     "output_type": "execute_result"
    }
   ],
   "source": [
    "le = LabelEncoder()\n",
    "le.fit([\"armed\", \"race\", \"gender\", \"city\", \"state\", \"threat_level\", \"flee\"])"
   ]
  },
  {
   "cell_type": "markdown",
   "metadata": {},
   "source": [
    "Our y (which we hope to predict) will be race, and X will be everything else except race, as we hope to use the variables to predict race. We train and test the data."
   ]
  },
  {
   "cell_type": "code",
   "execution_count": 87,
   "metadata": {},
   "outputs": [],
   "source": [
    "data_log = data.apply(LabelEncoder().fit_transform)\n",
    "\n",
    "X = data_log\n",
    "y = data_log[\"race\"]\n",
    "X.drop([\"race\", \"date\"], axis=1, inplace=True)\n",
    "\n",
    "X_train, X_test, y_train, y_test = train_test_split(X, y, test_size=0.3, random_state=101)"
   ]
  },
  {
   "cell_type": "markdown",
   "metadata": {},
   "source": [
    "We fit the X_train and y_train values onto the RandomForestClassifier."
   ]
  },
  {
   "cell_type": "code",
   "execution_count": 88,
   "metadata": {},
   "outputs": [
    {
     "data": {
      "text/plain": [
       "RandomForestClassifier(bootstrap=True, class_weight=None, criterion='gini',\n",
       "            max_depth=None, max_features='auto', max_leaf_nodes=None,\n",
       "            min_impurity_decrease=0.0, min_impurity_split=None,\n",
       "            min_samples_leaf=1, min_samples_split=2,\n",
       "            min_weight_fraction_leaf=0.0, n_estimators=10, n_jobs=1,\n",
       "            oob_score=False, random_state=None, verbose=0,\n",
       "            warm_start=False)"
      ]
     },
     "execution_count": 88,
     "metadata": {},
     "output_type": "execute_result"
    }
   ],
   "source": [
    "rfc = RandomForestClassifier()\n",
    "rfc.fit(X_train, y_train)"
   ]
  },
  {
   "cell_type": "markdown",
   "metadata": {},
   "source": [
    "Feature importances will let us know which feature is the most important in determining splits in the decision trees that comprise Random Forest.\n",
    "\n",
    "Below we can see the racial statistics features and the age feature are the most important in determining race."
   ]
  },
  {
   "cell_type": "code",
   "execution_count": 89,
   "metadata": {},
   "outputs": [
    {
     "data": {
      "text/html": [
       "<div>\n",
       "<style scoped>\n",
       "    .dataframe tbody tr th:only-of-type {\n",
       "        vertical-align: middle;\n",
       "    }\n",
       "\n",
       "    .dataframe tbody tr th {\n",
       "        vertical-align: top;\n",
       "    }\n",
       "\n",
       "    .dataframe thead th {\n",
       "        text-align: right;\n",
       "    }\n",
       "</style>\n",
       "<table border=\"1\" class=\"dataframe\">\n",
       "  <thead>\n",
       "    <tr style=\"text-align: right;\">\n",
       "      <th></th>\n",
       "      <th>feature_importance</th>\n",
       "      <th>feature_name</th>\n",
       "    </tr>\n",
       "  </thead>\n",
       "  <tbody>\n",
       "    <tr>\n",
       "      <th>0</th>\n",
       "      <td>0.042568</td>\n",
       "      <td>armed</td>\n",
       "    </tr>\n",
       "    <tr>\n",
       "      <th>1</th>\n",
       "      <td>0.136596</td>\n",
       "      <td>age</td>\n",
       "    </tr>\n",
       "    <tr>\n",
       "      <th>2</th>\n",
       "      <td>0.005518</td>\n",
       "      <td>gender</td>\n",
       "    </tr>\n",
       "    <tr>\n",
       "      <th>3</th>\n",
       "      <td>0.047540</td>\n",
       "      <td>city</td>\n",
       "    </tr>\n",
       "    <tr>\n",
       "      <th>4</th>\n",
       "      <td>0.033194</td>\n",
       "      <td>state</td>\n",
       "    </tr>\n",
       "    <tr>\n",
       "      <th>5</th>\n",
       "      <td>0.024145</td>\n",
       "      <td>mental_illness</td>\n",
       "    </tr>\n",
       "    <tr>\n",
       "      <th>6</th>\n",
       "      <td>0.027528</td>\n",
       "      <td>threat_level</td>\n",
       "    </tr>\n",
       "    <tr>\n",
       "      <th>7</th>\n",
       "      <td>0.038841</td>\n",
       "      <td>flee</td>\n",
       "    </tr>\n",
       "    <tr>\n",
       "      <th>8</th>\n",
       "      <td>0.012279</td>\n",
       "      <td>body_camera</td>\n",
       "    </tr>\n",
       "    <tr>\n",
       "      <th>9</th>\n",
       "      <td>0.045418</td>\n",
       "      <td>median_income</td>\n",
       "    </tr>\n",
       "    <tr>\n",
       "      <th>10</th>\n",
       "      <td>0.051855</td>\n",
       "      <td>poverty_rate</td>\n",
       "    </tr>\n",
       "    <tr>\n",
       "      <th>11</th>\n",
       "      <td>0.057786</td>\n",
       "      <td>completed_hs</td>\n",
       "    </tr>\n",
       "    <tr>\n",
       "      <th>12</th>\n",
       "      <td>0.119380</td>\n",
       "      <td>white</td>\n",
       "    </tr>\n",
       "    <tr>\n",
       "      <th>13</th>\n",
       "      <td>0.131595</td>\n",
       "      <td>black</td>\n",
       "    </tr>\n",
       "    <tr>\n",
       "      <th>14</th>\n",
       "      <td>0.051463</td>\n",
       "      <td>native_american</td>\n",
       "    </tr>\n",
       "    <tr>\n",
       "      <th>15</th>\n",
       "      <td>0.055593</td>\n",
       "      <td>asian</td>\n",
       "    </tr>\n",
       "    <tr>\n",
       "      <th>16</th>\n",
       "      <td>0.118699</td>\n",
       "      <td>hispanic</td>\n",
       "    </tr>\n",
       "  </tbody>\n",
       "</table>\n",
       "</div>"
      ],
      "text/plain": [
       "    feature_importance     feature_name\n",
       "0             0.042568            armed\n",
       "1             0.136596              age\n",
       "2             0.005518           gender\n",
       "3             0.047540             city\n",
       "4             0.033194            state\n",
       "5             0.024145   mental_illness\n",
       "6             0.027528     threat_level\n",
       "7             0.038841             flee\n",
       "8             0.012279      body_camera\n",
       "9             0.045418    median_income\n",
       "10            0.051855     poverty_rate\n",
       "11            0.057786     completed_hs\n",
       "12            0.119380            white\n",
       "13            0.131595            black\n",
       "14            0.051463  native_american\n",
       "15            0.055593            asian\n",
       "16            0.118699         hispanic"
      ]
     },
     "execution_count": 89,
     "metadata": {},
     "output_type": "execute_result"
    }
   ],
   "source": [
    "rfc_pred = rfc.predict(X_test)\n",
    "feature_data = pd.DataFrame({\"feature_name\": data_log.columns, \"feature_importance\": rfc.feature_importances_})\n",
    "feature_data"
   ]
  },
  {
   "cell_type": "markdown",
   "metadata": {},
   "source": [
    "The classification report will allow for us to see how precise the model was with respect to the test values and the predicted values."
   ]
  },
  {
   "cell_type": "code",
   "execution_count": 90,
   "metadata": {},
   "outputs": [
    {
     "name": "stdout",
     "output_type": "stream",
     "text": [
      "             precision    recall  f1-score   support\n",
      "\n",
      "          0       0.00      0.00      0.00         9\n",
      "          1       0.63      0.61      0.62       165\n",
      "          2       0.59      0.58      0.58       130\n",
      "          3       1.00      0.06      0.12        16\n",
      "          4       0.33      0.29      0.31         7\n",
      "          5       0.71      0.77      0.74       313\n",
      "\n",
      "avg / total       0.66      0.66      0.65       640\n",
      "\n"
     ]
    }
   ],
   "source": [
    "print(classification_report(y_test, rfc_pred))"
   ]
  },
  {
   "cell_type": "markdown",
   "metadata": {},
   "source": [
    "The model was roughly 62% precise."
   ]
  },
  {
   "cell_type": "code",
   "execution_count": 91,
   "metadata": {},
   "outputs": [
    {
     "data": {
      "text/plain": [
       "0.65625"
      ]
     },
     "execution_count": 91,
     "metadata": {},
     "output_type": "execute_result"
    }
   ],
   "source": [
    "rf_accuracy_score = accuracy_score(y_test, rfc_pred)\n",
    "rf_accuracy_score"
   ]
  },
  {
   "cell_type": "markdown",
   "metadata": {},
   "source": [
    "The model was rougly 63.59% accurate.\n",
    "\n",
    "We will now apply GridSearch to the Random Classifier model. We create the GridSearchCV with 5 fold cross validation. We then fit the GridSearch model onto the X_train and y_train model from before."
   ]
  },
  {
   "cell_type": "code",
   "execution_count": 92,
   "metadata": {},
   "outputs": [
    {
     "data": {
      "text/plain": [
       "GridSearchCV(cv=5, error_score='raise',\n",
       "       estimator=RandomForestClassifier(bootstrap=True, class_weight=None, criterion='gini',\n",
       "            max_depth=None, max_features='auto', max_leaf_nodes=None,\n",
       "            min_impurity_decrease=0.0, min_impurity_split=None,\n",
       "            min_samples_leaf=1, min_samples_split=2,\n",
       "            min_weight_fraction_leaf=0.0, n_estimators=10, n_jobs=1,\n",
       "            oob_score=False, random_state=None, verbose=0,\n",
       "            warm_start=False),\n",
       "       fit_params=None, iid=True, n_jobs=1,\n",
       "       param_grid={'max_depth': [32, 44, 50], 'n_estimators': [15, 18, 26, 32], 'min_samples_leaf': [40, 50, 60], 'criterion': ['gini', 'entropy']},\n",
       "       pre_dispatch='2*n_jobs', refit=True, return_train_score='warn',\n",
       "       scoring='accuracy', verbose=0)"
      ]
     },
     "execution_count": 92,
     "metadata": {},
     "output_type": "execute_result"
    }
   ],
   "source": [
    "params = {\"max_depth\": [32,44,50],\n",
    "         \"n_estimators\": [15,18,26,32],\n",
    "          \"min_samples_leaf\": [40,50,60],\n",
    "         \"criterion\": [\"gini\", \"entropy\"]}\n",
    "\n",
    "from sklearn import model_selection\n",
    "\n",
    "gs_rf = model_selection.GridSearchCV(estimator=rfc,\n",
    "                                 param_grid=params,\n",
    "                                 cv=5,\n",
    "                                 scoring=\"accuracy\")\n",
    "\n",
    "gs_rf.fit(X_train, y_train)"
   ]
  },
  {
   "cell_type": "code",
   "execution_count": 93,
   "metadata": {},
   "outputs": [
    {
     "data": {
      "text/plain": [
       "{'criterion': 'gini',\n",
       " 'max_depth': 44,\n",
       " 'min_samples_leaf': 40,\n",
       " 'n_estimators': 26}"
      ]
     },
     "execution_count": 93,
     "metadata": {},
     "output_type": "execute_result"
    }
   ],
   "source": [
    "gs_rf.best_params_"
   ]
  },
  {
   "cell_type": "markdown",
   "metadata": {},
   "source": [
    "We get the accuracacy score of this model, regarding how much the predicted labels match the predicted labels."
   ]
  },
  {
   "cell_type": "code",
   "execution_count": 94,
   "metadata": {},
   "outputs": [
    {
     "data": {
      "text/plain": [
       "0.6659959758551308"
      ]
     },
     "execution_count": 94,
     "metadata": {},
     "output_type": "execute_result"
    }
   ],
   "source": [
    "gs_rf_accuracy_score = gs_rf.best_score_ \n",
    "gs_rf_accuracy_score"
   ]
  },
  {
   "cell_type": "markdown",
   "metadata": {},
   "source": [
    "The Confusion Matrix of predicted label vs true label."
   ]
  },
  {
   "cell_type": "code",
   "execution_count": 95,
   "metadata": {},
   "outputs": [
    {
     "data": {
      "image/png": "[encoded data removed]",
      "text/plain": [
       "<matplotlib.figure.Figure at 0x7fce7d3c0a58>"
      ]
     },
     "metadata": {},
     "output_type": "display_data"
    }
   ],
   "source": [
    "mat = confusion_matrix(y_test, rfc_pred)\n",
    "sns.heatmap(mat.T, square=True, annot=True, fmt='d', cbar=False)\n",
    "plt.xlabel('true label')\n",
    "plt.ylabel('predicted label');"
   ]
  },
  {
   "cell_type": "markdown",
   "metadata": {},
   "source": [
    "The model was roughly 66.599% accurate."
   ]
  },
  {
   "cell_type": "markdown",
   "metadata": {},
   "source": [
    "Logistic Regression turned out to be more accurate in this case, however, overall the accuracy would be improved with more data, as the dataset only goes back 2 years. What was most important for determining race was age, which makes sense since there is a significant difference between the mean ages between races. In addition, race statistics followed by median_income and education level were important features in determining race."
   ]
  },
  {
   "cell_type": "markdown",
   "metadata": {},
   "source": [
    "References used: Kaggle Discussion Forum to help understand the regression and machine learning models "
   ]
  }
 ],
 "metadata": {
  "kernelspec": {
   "display_name": "Python 3",
   "language": "python",
   "name": "python3"
  },
  "language_info": {
   "codemirror_mode": {
    "name": "ipython",
    "version": 3
   },
   "file_extension": ".py",
   "mimetype": "text/x-python",
   "name": "python",
   "nbconvert_exporter": "python",
   "pygments_lexer": "ipython3",
   "version": "3.6.3"
  }
 },
 "nbformat": 4,
 "nbformat_minor": 2
}
